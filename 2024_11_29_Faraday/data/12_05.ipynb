{
 "cells": [
  {
   "cell_type": "markdown",
   "metadata": {},
   "source": [
    "# ノート"
   ]
  },
  {
   "cell_type": "markdown",
   "metadata": {},
   "source": [
    "磁場は長岡係数 $K_n$ による補正が必要である\n",
    "$$\n",
    "    H = K_N nI\n",
    "$$"
   ]
  },
  {
   "cell_type": "markdown",
   "metadata": {},
   "source": [
    "# コード"
   ]
  },
  {
   "cell_type": "markdown",
   "metadata": {},
   "source": [
    "## ライブラリのインポート"
   ]
  },
  {
   "cell_type": "code",
   "execution_count": 1,
   "metadata": {},
   "outputs": [],
   "source": [
    "import numpy as np\n",
    "from matplotlib import pyplot as plt\n",
    "import pandas as pd\n",
    "from scipy.signal import savgol_filter\n",
    "import os"
   ]
  },
  {
   "cell_type": "markdown",
   "metadata": {},
   "source": [
    "## 測定値の取り込み"
   ]
  },
  {
   "cell_type": "code",
   "execution_count": 2,
   "metadata": {},
   "outputs": [],
   "source": [
    "def get_length(N):\n",
    "    if(N == 50):\n",
    "        L = 7.478\n",
    "    elif(N == 75):\n",
    "        L = 7.866\n",
    "    if(N == 100):\n",
    "        L = 7.238\n",
    "    if(N == 150):\n",
    "        L = 8.275\n",
    "    return L\n",
    "\n",
    "def get_Nagaoka_const(N):\n",
    "    Kn = 1\n",
    "    # if(N == 50):\n",
    "    #     Kn = 7.478\n",
    "    # elif(N == 75):\n",
    "    #     Kn = 7.866\n",
    "    # if(N == 100):\n",
    "    #     Kn = 7.238\n",
    "    # if(N == 150):\n",
    "    #     Kn = 8.275\n",
    "    return Kn\n",
    "\n",
    "def calc_H(N, V):\n",
    "    R = 0.1 # 抵抗\n",
    "    Kn = get_Nagaoka_const(N)\n",
    "    L = get_length(N)\n",
    "\n",
    "    H = Kn * N * V / L / R # 単位 A/cm\n",
    "\n",
    "    return H/1000 # 単位 mA/cm\n",
    "\n",
    "\n",
    "Ns = np.array([150, 150, 150, 150,\n",
    "        100, 100, 100, 100,\n",
    "        75,  75, 75, 75,\n",
    "        50, 50, 50, 50,\n",
    "        150, 150, 150, 150, 150,\n",
    "        150, 150, 150, 150, 150])\n",
    "\n",
    "Vs = np.array([400, 300, 200, 100,\n",
    "            400, 300, 200, 100,\n",
    "            400, 300, 200, 100,\n",
    "            400, 300, 200, 100,\n",
    "            400, 300, 200, 100, 100,\n",
    "            400, 300, 200, 100, 100])\n",
    "\n",
    "Time = np.linspace(-0.00005, 00.000449800000, 2500) * 10 ** 6\n",
    "\n",
    "\n",
    "nfile = 26\n",
    "raw_data = np.zeros((nfile, 2, 2500))\n",
    "\n",
    "Intensity = np.zeros((nfile, 2500))\n",
    "H_field = np.zeros((nfile, 2500))\n",
    "\n",
    "windowsize = 100\n",
    "Intensity_smooth = np.zeros((nfile, 2500))\n",
    "H_field_smooth = np.zeros((nfile, 2500))\n",
    "\n",
    "for i in range(1, nfile+1):\n",
    "\n",
    "    # 光の強さ\n",
    "    ch1 = pd.read_csv(f\"12_05/ALL{i:04}/F{i:04}CH1.CSV\", header=None, usecols = [4]).to_numpy()[:,0]\n",
    "\n",
    "    # 磁場の強さ 16 番目のデータだけ破損している\n",
    "    if(i != 16):\n",
    "        ch2 = pd.read_csv(f\"12_05/ALL{i:04}/F{i:04}CH2.CSV\", header=None, usecols = [4]).to_numpy()[:,0]\n",
    "    else :\n",
    "        ch2 = pd.read_csv(f\"12_05/ALL{i-1:04}/F{i-1:04}CH2.CSV\", header=None, usecols = [4]).to_numpy()[:,0]/2\n",
    "\n",
    "    raw_data[i-1][0] = ch1\n",
    "    raw_data[i-1][1] = ch2\n",
    "\n",
    "    Intensity[i-1] = (ch1-np.min(ch1))/(np.max(ch1)-np.min(ch1))\n",
    "    H_field[i-1] = calc_H(Ns[i-1], ch2)\n",
    "\n",
    "    Intensity_smooth[i-1] = savgol_filter(Intensity[i-1], window_length = windowsize, polyorder = 5)\n",
    "    H_field_smooth[i-1] = savgol_filter(H_field[i-1], window_length = windowsize, polyorder = 5)\n",
    "del i"
   ]
  },
  {
   "cell_type": "markdown",
   "metadata": {},
   "source": [
    "## 出力"
   ]
  },
  {
   "cell_type": "markdown",
   "metadata": {},
   "source": [
    "### X-T グラフ"
   ]
  },
  {
   "cell_type": "code",
   "execution_count": 8,
   "metadata": {},
   "outputs": [],
   "source": [
    "font_size = 18\n",
    "\n",
    "def plot_xt_graph(index):\n",
    "    f = plt.figure()\n",
    "\n",
    "    ax1 = f.add_subplot(111)\n",
    "    ax1.yaxis.set_ticks_position('both')\n",
    "    ax1.xaxis.set_ticks_position('both')\n",
    "    plt.rcParams['xtick.direction'] = 'in'\n",
    "    plt.rcParams['ytick.direction'] = 'in'\n",
    "\n",
    "    plt.rcParams['font.size'] = font_size\n",
    "    plt.rcParams['font.family'] ='Times New Roman'\n",
    "    plt.rcParams['mathtext.fontset'] = 'stix'\n",
    "\n",
    "    ax1.set_xlim(-50,450)\n",
    "    ax1.set_ylim(0,1.0)\n",
    "\n",
    "    ax1.set_xlabel(\"Time ($\\mathrm{\\mu s}$)\")\n",
    "    ax1.set_ylabel(\"$I$ (arb. unit)\")\n",
    "\n",
    "    ax1.plot(Time, Intensity_smooth[index], c = \"tab:blue\", label=\"$I$\")\n",
    "    ax1.scatter(Time, Intensity[index], s = 0.1, c = \"tab:blue\")\n",
    "\n",
    "    ax2 = ax1.twinx()\n",
    "    ax2.set_ylabel(\"$H$ (kA/cm)\")\n",
    "\n",
    "    ax2.plot(Time, H_field_smooth[index], c = \"tab:orange\", label = \"$H$\")\n",
    "    ax2.scatter(Time, H_field[index], s = 0.1, c = \"tab:orange\")\n",
    "\n",
    "    plt.title(f\"$N$ = {Ns[index]}, $V$ = {Vs[index]}\")\n",
    "\n",
    "    h1, l1 = ax1.get_legend_handles_labels()\n",
    "    h2, l2 = ax2.get_legend_handles_labels()\n",
    "    ax1.legend(h1+h2, l1+l2, loc='upper right')\n",
    "\n",
    "    path = f\"../image/xt/\"\n",
    "    if not os.path.isdir(path):\n",
    "        os.makedirs(path)\n",
    "\n",
    "    plt.savefig(f\"../image/xt/{index+1:02}.png\",  bbox_inches='tight')\n",
    "    plt.close()\n",
    "\n",
    "\n",
    "for i in range(nfile):\n",
    "    plot_xt_graph(i)"
   ]
  },
  {
   "cell_type": "markdown",
   "metadata": {},
   "source": [
    "### X-Y グラフ"
   ]
  },
  {
   "cell_type": "code",
   "execution_count": 13,
   "metadata": {},
   "outputs": [],
   "source": [
    "def get_shift(N):\n",
    "    if(N == 50):\n",
    "        shift = 13\n",
    "    elif(N == 75):\n",
    "        shift = 14\n",
    "    if(N == 100):\n",
    "        shift = 19\n",
    "    if(N == 150):\n",
    "        shift = 24\n",
    "    return shift\n",
    "\n",
    "\n",
    "def plot_xy_graph(index):\n",
    "    f = plt.figure()\n",
    "\n",
    "    ax1 = f.add_subplot(111)\n",
    "    ax1.yaxis.set_ticks_position('both')\n",
    "    ax1.xaxis.set_ticks_position('both')\n",
    "    plt.rcParams['xtick.direction'] = 'in'\n",
    "    plt.rcParams['ytick.direction'] = 'in'\n",
    "\n",
    "    plt.rcParams['font.size'] = font_size\n",
    "    plt.rcParams['font.family'] ='Times New Roman'\n",
    "    plt.rcParams['mathtext.fontset'] = 'stix'\n",
    "\n",
    "    ax1.set_xlim(0,8)\n",
    "    ax1.set_ylim(0,1.0)\n",
    "\n",
    "    ax1.set_xlabel(\"$H$ (kA/cm)\")\n",
    "    ax1.set_ylabel(\"Intensity (arb. unit)\")\n",
    "\n",
    "    ax1.plot(H_field_smooth[index], Intensity_smooth[index], c = \"tab:blue\", label = \"no fixed\")\n",
    "    ax1.scatter(H_field[index], Intensity[index], s = 0.1, c = \"tab:blue\")\n",
    "\n",
    "    shift = get_shift(Ns[index])\n",
    "    ax1.plot(H_field_smooth[index][:2500-shift], Intensity_smooth[index][shift:], c = \"tab:orange\", label = \"fixed\")\n",
    "    ax1.scatter(H_field[index][:2500-shift], Intensity[index][shift:], s = 0.1, c = \"tab:orange\")\n",
    "\n",
    "    plt.title(f\"$N$ = {Ns[index]}, $V$ = {Vs[index]}, shift = {shift}\")\n",
    "\n",
    "    plt.legend(loc = \"upper right\")\n",
    "\n",
    "    path = f\"../image/xy/\"\n",
    "    if not os.path.isdir(path):\n",
    "        os.makedirs(path)\n",
    "\n",
    "    plt.savefig(f\"../image/xy/{index+1:02}.png\",  bbox_inches='tight')\n",
    "    plt.close()\n",
    "\n",
    "for i in range(nfile):\n",
    "    plot_xy_graph(i)"
   ]
  },
  {
   "cell_type": "markdown",
   "metadata": {},
   "source": [
    "#### 磁化の応答の遅れを見る"
   ]
  },
  {
   "cell_type": "code",
   "execution_count": 6,
   "metadata": {},
   "outputs": [],
   "source": [
    "def plot_xy_graph_test(index, shift = 0):\n",
    "    font_size = 18\n",
    "    f = plt.figure()\n",
    "\n",
    "    ax1 = f.add_subplot(111)\n",
    "    ax1.yaxis.set_ticks_position('both')\n",
    "    ax1.xaxis.set_ticks_position('both')\n",
    "    plt.rcParams['xtick.direction'] = 'in'\n",
    "    plt.rcParams['ytick.direction'] = 'in'\n",
    "\n",
    "    plt.rcParams['font.size'] = font_size\n",
    "    plt.rcParams['font.family'] ='Times New Roman'\n",
    "    plt.rcParams['mathtext.fontset'] = 'stix'\n",
    "\n",
    "    ax1.set_xlim(0,8)\n",
    "    ax1.set_ylim(0,1.0)\n",
    "\n",
    "    ax1.set_xlabel(\"$H$ (mA/cm)\")\n",
    "    ax1.set_ylabel(\"Intensity (arb. unit)\")\n",
    "\n",
    "    ax1.plot(H_field_smooth[index][:2500-shift], Intensity_smooth[index][shift:], c = \"tab:blue\")\n",
    "    ax1.scatter(H_field[index][:2500-shift], Intensity[index][shift:], s = 0.1, c = \"tab:blue\")\n",
    "\n",
    "    plt.title(f\"$N$ = {Ns[index]}, $V$ = {Vs[index]}, shift = {shift}\")\n",
    "\n",
    "    path = f\"../image/xy_test/{index+1:02}/\"\n",
    "    if not os.path.isdir(path):\n",
    "        os.makedirs(path)\n",
    "\n",
    "    plt.savefig(f\"../image/xy_test/{index+1:02}/shift{shift:02}.png\",  bbox_inches='tight')\n",
    "    plt.close()\n",
    "\n",
    "\n",
    "# for i in range(nfile):\n",
    "#     for j in range(25):\n",
    "#         plot_xy_graph_test(i, j)\n",
    "# del i, j"
   ]
  },
  {
   "cell_type": "code",
   "execution_count": null,
   "metadata": {},
   "outputs": [],
   "source": []
  }
 ],
 "metadata": {
  "kernelspec": {
   "display_name": "py3-11-9",
   "language": "python",
   "name": "python3"
  },
  "language_info": {
   "codemirror_mode": {
    "name": "ipython",
    "version": 3
   },
   "file_extension": ".py",
   "mimetype": "text/x-python",
   "name": "python",
   "nbconvert_exporter": "python",
   "pygments_lexer": "ipython3",
   "version": "3.11.10"
  }
 },
 "nbformat": 4,
 "nbformat_minor": 2
}
