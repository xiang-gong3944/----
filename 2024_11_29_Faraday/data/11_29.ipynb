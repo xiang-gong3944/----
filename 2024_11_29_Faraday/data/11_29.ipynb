{
 "cells": [
  {
   "cell_type": "markdown",
   "metadata": {},
   "source": [
    "## ライブラリのインポート"
   ]
  },
  {
   "cell_type": "code",
   "execution_count": 2,
   "metadata": {},
   "outputs": [],
   "source": [
    "import numpy as np\n",
    "from matplotlib import pyplot as plt\n",
    "import pandas as pd"
   ]
  },
  {
   "cell_type": "markdown",
   "metadata": {},
   "source": [
    "## データの読み込み"
   ]
  },
  {
   "cell_type": "code",
   "execution_count": 61,
   "metadata": {},
   "outputs": [],
   "source": [
    "df = pd.read_csv(\"11_29/Book2.csv\",\n",
    "                encoding = 'shift_jis',\n",
    "                skiprows = 1)\n",
    "\n",
    "angle = df.iloc[:,0].to_numpy()\n",
    "\n",
    "normalize = 1730\n",
    "offset = 5\n",
    "\n",
    "direct = (df.iloc[:,1].to_numpy() + offset) / normalize\n",
    "lambda4 = (df.iloc[:,2].to_numpy() + offset) / normalize\n",
    "linear00 = (df.iloc[:,3].to_numpy() + offset) / normalize\n",
    "linear45 = (df.iloc[:,4].to_numpy() + offset) / normalize\n",
    "circular00 = (df.iloc[:,5].to_numpy() + offset) / normalize\n",
    "circular15 = (df.iloc[:,6].to_numpy() + offset) / normalize\n",
    "circular30 = (df.iloc[:,7].to_numpy() + offset) / normalize\n",
    "circular45 = (df.iloc[:,8].to_numpy() + offset) / normalize\n",
    "\n",
    "del df"
   ]
  },
  {
   "cell_type": "markdown",
   "metadata": {},
   "source": [
    "## グラフの出力"
   ]
  },
  {
   "cell_type": "code",
   "execution_count": 4,
   "metadata": {},
   "outputs": [],
   "source": [
    "font_size = 18"
   ]
  },
  {
   "cell_type": "code",
   "execution_count": null,
   "metadata": {},
   "outputs": [],
   "source": [
    "Time = np.linspace(0,10,11)\n",
    "Intensity = np.ones(11)*1.73\n",
    "Intensity[7] = 1.72\n",
    "\n",
    "f = plt.figure()\n",
    "ax1 = f.add_subplot(111)\n",
    "ax1.yaxis.set_ticks_position('both')\n",
    "ax1.xaxis.set_ticks_position('both')\n",
    "plt.rcParams['xtick.direction'] = 'in'\n",
    "plt.rcParams['ytick.direction'] = 'in'\n",
    "\n",
    "plt.rcParams['font.size'] = font_size\n",
    "plt.rcParams['font.family'] ='Times New Roman'\n",
    "plt.rcParams['mathtext.fontset'] = 'stix'\n",
    "\n",
    "ax1.set_xlim(0,10)\n",
    "ax1.set_ylim(0,2.0)\n",
    "\n",
    "ax1.set_xlabel(\"Time (min)\")\n",
    "ax1.set_ylabel(\"Intensity (V)\")\n",
    "\n",
    "ax1.scatter(Time, Intensity)\n",
    "ax1.plot(Time, Intensity)\n",
    "\n",
    "# ax1.legend(loc =\"upper right\")\n",
    "\n",
    "plt.savefig(\"../image/11_29_00.png\",  bbox_inches='tight')\n",
    "plt.show()\n",
    "print(Time)\n",
    "print(Intensity)\n",
    "\n",
    "del f, ax1, Time, Intensity"
   ]
  },
  {
   "cell_type": "code",
   "execution_count": null,
   "metadata": {},
   "outputs": [],
   "source": [
    "f = plt.figure()\n",
    "ax1 = f.add_subplot(111)\n",
    "ax1.yaxis.set_ticks_position('both')\n",
    "ax1.xaxis.set_ticks_position('both')\n",
    "plt.rcParams['xtick.direction'] = 'in'\n",
    "plt.rcParams['ytick.direction'] = 'in'\n",
    "\n",
    "plt.rcParams['font.size'] = font_size\n",
    "plt.rcParams['font.family'] ='Times New Roman'\n",
    "plt.rcParams['mathtext.fontset'] = 'stix'\n",
    "\n",
    "ax1.set_xlim(0,360)\n",
    "ax1.set_xticks(np.linspace(0,360, 9))\n",
    "ax1.set_ylim(0,0.7)\n",
    "\n",
    "ax1.set_xlabel(\"angle (deg)\")\n",
    "ax1.set_ylabel(\"Intensity (arb. unit)\")\n",
    "\n",
    "ax1.scatter(angle, direct, label=\"no $\\lambda /4$\")\n",
    "ax1.plot(angle, direct)\n",
    "\n",
    "ax1.scatter(angle, lambda4, label=\"$\\lambda /4$\")\n",
    "ax1.plot(angle, lambda4)\n",
    "\n",
    "ax1.legend(loc =\"upper right\")\n",
    "\n",
    "plt.savefig(\"../image/11_29_01.png\",  bbox_inches='tight')\n",
    "plt.show()\n",
    "\n",
    "del f, ax1"
   ]
  },
  {
   "cell_type": "code",
   "execution_count": null,
   "metadata": {},
   "outputs": [],
   "source": [
    "f = plt.figure()\n",
    "ax1 = f.add_subplot(111)\n",
    "ax1.yaxis.set_ticks_position('both')\n",
    "ax1.xaxis.set_ticks_position('both')\n",
    "plt.rcParams['xtick.direction'] = 'in'\n",
    "plt.rcParams['ytick.direction'] = 'in'\n",
    "\n",
    "plt.rcParams['font.size'] = font_size\n",
    "plt.rcParams['font.family'] ='Times New Roman'\n",
    "plt.rcParams['mathtext.fontset'] = 'stix'\n",
    "\n",
    "ax1.set_xlim(0,360)\n",
    "ax1.set_xticks(np.linspace(0,360, 9))\n",
    "ax1.set_ylim(0,0.25)\n",
    "\n",
    "ax1.set_xlabel(\"angle (deg)\")\n",
    "ax1.set_ylabel(\"Intensity (arb. unit)\")\n",
    "\n",
    "ax1.scatter(angle, linear00, label=\"$0^\\circ$\")\n",
    "ax1.plot(angle, linear00)\n",
    "\n",
    "ax1.scatter(angle, linear45, label=\"$45^\\circ$\")\n",
    "ax1.plot(angle, linear45)\n",
    "\n",
    "ax1.legend(loc =\"upper right\")\n",
    "\n",
    "plt.savefig(\"../image/11_29_02.png\",  bbox_inches='tight')\n",
    "plt.show()\n",
    "\n",
    "del f, ax1"
   ]
  },
  {
   "cell_type": "code",
   "execution_count": null,
   "metadata": {},
   "outputs": [],
   "source": [
    "f = plt.figure()\n",
    "ax1 = f.add_subplot(111)\n",
    "ax1.yaxis.set_ticks_position('both')\n",
    "ax1.xaxis.set_ticks_position('both')\n",
    "plt.rcParams['xtick.direction'] = 'in'\n",
    "plt.rcParams['ytick.direction'] = 'in'\n",
    "\n",
    "plt.rcParams['font.size'] = font_size\n",
    "plt.rcParams['font.family'] ='Times New Roman'\n",
    "plt.rcParams['mathtext.fontset'] = 'stix'\n",
    "\n",
    "ax1.set_xlim(0,360)\n",
    "ax1.set_xticks(np.linspace(0,360, 9))\n",
    "ax1.set_ylim(0,0.25)\n",
    "\n",
    "ax1.set_xlabel(\"angle (deg)\")\n",
    "ax1.set_ylabel(\"Intensity (arb. unit)\")\n",
    "\n",
    "ax1.scatter(angle, circular00, label=\"$0^\\circ$\")\n",
    "ax1.plot(angle, circular00)\n",
    "\n",
    "ax1.scatter(angle, circular15, label=\"$15^\\circ$\")\n",
    "ax1.plot(angle, circular15)\n",
    "\n",
    "ax1.scatter(angle, circular30, label=\"$30^\\circ$\")\n",
    "ax1.plot(angle, circular30)\n",
    "\n",
    "ax1.scatter(angle, circular45, label=\"$45^\\circ$\")\n",
    "ax1.plot(angle, circular45)\n",
    "\n",
    "ax1.legend(loc =\"upper right\")\n",
    "\n",
    "plt.savefig(\"../image/11_29_03.png\",  bbox_inches='tight')\n",
    "plt.show()\n",
    "\n",
    "del f, ax1"
   ]
  }
 ],
 "metadata": {
  "kernelspec": {
   "display_name": "Python 3",
   "language": "python",
   "name": "python3"
  },
  "language_info": {
   "codemirror_mode": {
    "name": "ipython",
    "version": 3
   },
   "file_extension": ".py",
   "mimetype": "text/x-python",
   "name": "python",
   "nbconvert_exporter": "python",
   "pygments_lexer": "ipython3",
   "version": "3.11.9"
  }
 },
 "nbformat": 4,
 "nbformat_minor": 2
}
