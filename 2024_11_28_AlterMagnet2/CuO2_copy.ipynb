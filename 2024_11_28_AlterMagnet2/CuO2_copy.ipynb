{
 "cells": [
  {
   "cell_type": "markdown",
   "metadata": {},
   "source": [
    "並列計算用"
   ]
  },
  {
   "cell_type": "code",
   "execution_count": null,
   "metadata": {},
   "outputs": [],
   "source": [
    "%load_ext autoreload\n",
    "%autoreload 2"
   ]
  },
  {
   "cell_type": "code",
   "execution_count": 3,
   "metadata": {},
   "outputs": [],
   "source": [
    "import numpy as np\n",
    "import matplotlib.pyplot as plt\n",
    "from lib import funcs as fs\n",
    "from lib import post\n",
    "import time\n",
    "import os"
   ]
  },
  {
   "cell_type": "code",
   "execution_count": 4,
   "metadata": {},
   "outputs": [],
   "source": [
    "def plot_chi(U, chi):\n",
    "    fig = plt.figure()\n",
    "    ax1 = fig.add_subplot(111)\n",
    "    ax1.set_xlim(np.min(U), np.max(U))\n",
    "    ax1.hlines(0, np.min(U), np.max(U), color=\"grey\")\n",
    "    ax1.set_xlabel(\"U (eV)\")\n",
    "    ax1.set_ylabel(\"$\\chi/e$\")\n",
    "    ax1.plot(U, chi)\n",
    "\n",
    "    plt.show()\n",
    "\n",
    "    return\n",
    "# Uds = np.linspace(0, 30, 61)\n",
    "# plot_chi(Uds, Uds)"
   ]
  },
  {
   "cell_type": "code",
   "execution_count": null,
   "metadata": {},
   "outputs": [],
   "source": [
    "Uds = np.linspace(0, 20, 81)\n",
    "chis0 =  np.array([])\n",
    "for Ud in Uds:\n",
    "    print(f\"Ud = {Ud}\")\n",
    "    model = fs.CuO2(2.0, 0.45, 75, Ud)\n",
    "    model.calc_scf(iteration = 1200)\n",
    "    model.calc_nscf()\n",
    "    model.calc_kF_index()\n",
    "    chis0 = np.append(chis0, model.calc_spin_conductivity(\"x\", \"y\"))\n",
    "    model.plot_fermi_surface()\n",
    "    model.plot_band()\n",
    "plot_chi(Uds, np.real(chis0))"
   ]
  }
 ],
 "metadata": {
  "kernelspec": {
   "display_name": "py3-11-9",
   "language": "python",
   "name": "python3"
  },
  "language_info": {
   "codemirror_mode": {
    "name": "ipython",
    "version": 3
   },
   "file_extension": ".py",
   "mimetype": "text/x-python",
   "name": "python",
   "nbconvert_exporter": "python",
   "pygments_lexer": "ipython3",
   "version": "3.11.10"
  }
 },
 "nbformat": 4,
 "nbformat_minor": 2
}
