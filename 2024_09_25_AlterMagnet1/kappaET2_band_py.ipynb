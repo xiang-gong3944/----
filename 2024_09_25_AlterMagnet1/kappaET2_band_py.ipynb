{
 "cells": [
  {
   "cell_type": "markdown",
   "metadata": {},
   "source": [
    "## $\\kappa$(ET)$_2$-X のハバード縛模型"
   ]
  },
  {
   "cell_type": "markdown",
   "metadata": {},
   "source": [
    "## 考える系の状況"
   ]
  },
  {
   "cell_type": "markdown",
   "metadata": {},
   "source": [
    "### ハミルトニアン"
   ]
  },
  {
   "cell_type": "markdown",
   "metadata": {},
   "source": [
    "$\\kappa$(ET)$_2$-X を強束縛模型で計算する。\n",
    "この結晶は2次元的に扱うことができ、単位胞は$x$軸の格子定数を$a$, $y$軸の格子定数を$b$とした長方形である。"
   ]
  },
  {
   "cell_type": "markdown",
   "metadata": {},
   "source": [
    "この系のハミルトニアンは2次元ハバード模型\n",
    "\n",
    "$$\n",
    "\\mathcal{H} = \\sum_{ij}t_{ij}(c_i^{\\dagger}c_j+\\text{h.c.})+U\\sum_i n_{i\\uparrow} n_{i\\downarrow}\n",
    "$$\n",
    "をもとにしたものを使う。この和の添え字はサイトを表している。\n",
    "これを$\\kappa$型の格子に応用したのが\n",
    "$$\n",
    "    \\mathcal{H}_{\\kappa} \n",
    "    = U \\sum_{i\\mu} n_{i\\mu\\uparrow}n_{i\\mu\\downarrow}\n",
    "    + t_a\\sum_{i\\sigma}(c_{ia\\sigma}^\\dagger c_{ib\\sigma} + \\text{h.c})\n",
    "    +\\sum_{\\langle ij \\rangle \\mu\\mu'\\sigma} \n",
    "        t_{ij}^{\\mu\\mu'}(c_{i\\mu\\sigma}^\\dagger c_{j\\mu'\\sigma} +\\text{h.c.})\n",
    "$$\n",
    "である。この表示\n",
    "\n",
    "ここでの添え字は\n",
    " i 番目のダイマー にある\n",
    "$ \\sigma = \\uparrow, \\downarrow $(スピン), \n",
    "$\\mu = a,b $(分子内のサイト)\n",
    "といった意味である。\n",
    "\n",
    "すると第二項はダイマー内のホッピングを表していて、第三項はそれ以外のホッピングを表している。\n",
    "\n",
    "ただ、この表記に直す利点はあんまりないように思われる。\n",
    "ひょっとしたらダイマー近似をする際に、\n",
    "ダイマー内の結合性軌道と反結合性軌道に直すときには便利なのかもしれない。"
   ]
  },
  {
   "cell_type": "markdown",
   "metadata": {},
   "source": [
    "ここでのパラメータは\n",
    "\n",
    "https://doi.org/10.1038/s41467-019-12229-y\n",
    "\n",
    "を参考にすると\n",
    "\n",
    "$$\n",
    "\\begin{align*}\n",
    "    t_{a} &= -0.207 \\,\\text{eV}\\\\\n",
    "    t_{p} &= -0.102 \\,\\text{eV}\\\\\n",
    "    t_{q} &= 0.043 \\,\\text{eV}\\\\\n",
    "    t_{b} &= -0.067 \\,\\text{eV}\\\\\n",
    "    U     &= 1      \\,\\text{eV 程度}\n",
    "\\end{align*}\n",
    "$$\n",
    "\n",
    "というようにすればよいようである。"
   ]
  },
  {
   "cell_type": "markdown",
   "metadata": {},
   "source": [
    "実際の数値計算をする上で見やすい形にする。単位胞に注意してホッピング項を書くと\n",
    "$$\n",
    "    \\mathcal{H} = \\sum_{R}\\sum_{i,j} (t_{ij}c_{R+r_i}^\\dagger c_{R+r_j} + \\mathrm{h.c.}) \n",
    "    + \\sum_{\\braket{R,R'}}\\sum_{i,j} (t_{ij}c_{R+r_i}^\\dagger c_{R'+r_j} + \\mathrm{h.c.}) \n",
    "$$\n",
    "となる。ここで、\n",
    "\n",
    "- $R,\\, R'$ : 単位胞を表す位置ベクトル\n",
    "- $i,\\,j$ : は単位胞内部の各サイトにいる状態を表すインデックスで 0 から 7 を走る\n",
    "- $r_i,\\,r_j$ : 各サイトの位置ベクトル\n",
    "\n",
    "を表す。\n",
    "\n",
    "また、$i,\\,j$ の総和は実際に飛び移りのあるペアのみで和をとるため、第一項と第二項で和の範囲が違う気がする。\n",
    "なので第一項は単位胞内部、第二項は単位胞間の飛び移りであることは意識しなければならない。\n",
    "\n",
    "またこの位置表示のハミルトニアンは書き直す。"
   ]
  },
  {
   "cell_type": "markdown",
   "metadata": {},
   "source": [
    "まずはオンサイトを入れずに単に解いてみる。\n",
    "簡単のため長方形ではなく格子定数が 1 の正方形として計算する。\n",
    "フーリエ変換を考えると\n",
    "$$\n",
    "    c_{ik} = \\frac{1}{\\sqrt{N}}\\sum_{R} c_{R+r_i} e^{-ik(R+r_i)},\\qquad\n",
    "    c_{ik}^\\dagger = \\frac{1}{\\sqrt{N}}\\sum_{R} c_{R+r_i}^\\dagger e^{ik(R+r_i)}\\\\\n",
    "    c_{ik}e^{ikr_i} = \\frac{1}{\\sqrt{N}}\\sum_{R} c_{R+r_i} e^{-ikR},\\qquad\n",
    "    c_{ik}^\\dagger e^{-ikr_i} = \\frac{1}{\\sqrt{N}}\\sum_{R} c_{R+r_i}^\\dagger e^{ikR}\\\\\n",
    "$$\n",
    "より、\n",
    "$$\n",
    "    c_{R+r_i} = \\frac{1}{\\sqrt{N}}\\sum_{k} c_{ik}e^{ikr_i} e^{ikR}, \\qquad \n",
    "    c_{R+r_i}^\\dagger = \\frac{1}{\\sqrt{N}}\\sum_{k} c_{ik}^\\dagger e^{-ikr_i} e^{-ik \\cdot R}\n",
    "$$\n",
    "となる。\n",
    "各サイトの位置を詳細に決めるのは難しいものの、波数の生成消滅演算子を\n",
    "$$\n",
    "    d_{ik}= c_{ik}e^{ikr_i},\\qquad d_{ik}^\\dagger = c_{ik}^\\dagger e^{-ikr_i}\n",
    "$$\n",
    "というように取り直すと\n",
    "$$\n",
    "    c_{R+r_i} = \\frac{1}{\\sqrt{N}}\\sum_{k} d_{ik} e^{ikR}, \\qquad \n",
    "    c_{R+r_i}^\\dagger = \\frac{1}{\\sqrt{N}}\\sum_{k} d_{ik}^\\dagger e^{-ik \\cdot R}\n",
    "$$\n",
    "というように各サイトの位置について考えずに済む。\n",
    "これは各サイトの位置を格子点にひとまとめにしたような表示に相当する。"
   ]
  },
  {
   "cell_type": "markdown",
   "metadata": {},
   "source": [
    "これよりハミルトニアンは\n",
    "$$\n",
    "    \\mathcal{H} \n",
    "    = \\sum_{R}\\sum_{i,j} (t_{ij}c_{R+r_i}^\\dagger c_{R+r_j} + \\mathrm{h.c.}) \n",
    "    + \\sum_{\\braket{R,R'}}\\sum_{i,j} (t_{ij}c_{R+r_i}^\\dagger c_{R'+r_j} + \\mathrm{h.c.})\\\\\n",
    "    = \\sum_{k,\\,k'}\\left[\\sum_{R}\\sum_{i,j} \\left(t_{ij}d_{ik}^\\dagger d_{jk'}\\frac{e^{-i(k-k')R}}{N} + \\mathrm{h.c.}\\right) \n",
    "    + \\sum_{\\braket{R,R'}}\\sum_{i,j} \\left(t_{ij}d_{ik}^\\dagger d_{jk'}\\frac{e^{-ik'R}e^{ikR'}}{N} + \\mathrm{h.c.}\\right) \\right]\n",
    "$$"
   ]
  },
  {
   "cell_type": "markdown",
   "metadata": {},
   "source": [
    "この式を整理するため直交関係\n",
    "$$\n",
    "    \\sum_R \\frac{e^{-(k-k')R}}{N} = \\delta_{k,\\,k'}\n",
    "$$\n",
    "となることを使う。\n",
    "また、隣接する $R'$ を $R'=R+\\delta$ とすると\n",
    "$$\n",
    "    \\sum_{\\braket{R,R'}} \\frac{e^{-ik'R}e^{ikR'}}{N}= \\sum_R\\sum_\\delta e^{ik\\delta}\\frac{e^{(k-k')R}}{N} = \\sum_\\delta e^{ik\\delta}\\delta_{k,\\,k'}\n",
    "$$\n",
    "となるので"
   ]
  },
  {
   "cell_type": "markdown",
   "metadata": {},
   "source": [
    "$$\n",
    "\\begin{align*}\n",
    "\\mathcal{H}\n",
    "    &= \\sum_{k,\\,k'}\\left[\\sum_{R}\\sum_{i,j} \\left(t_{ij}d_{ik}^\\dagger d_{jk'}\\frac{e^{-i(k-k')R}}{N} + \\mathrm{h.c.}\\right) \n",
    "    + \\sum_{\\braket{R,R'}}\\sum_{i,j} \\left(t_{ij}d_{ik}^\\dagger d_{jk'}\\frac{e^{-ik'R}e^{ikR'}}{N} + \\mathrm{h.c.}\\right) \\right]\\\\\n",
    "    &= \\sum_{k,\\,k'}\\left[\\sum_{i,j} \\left(t_{ij}d_{ik}^\\dagger d_{jk'}\\delta_{k,\\,k'} + \\mathrm{h.c.}\\right) \n",
    "    + \\sum_{\\delta}\\sum_{i,j} \\left(t_{ij}d_{ik}^\\dagger d_{jk'}e^{ik\\delta}\\delta_{k,\\,k'} + \\mathrm{h.c.}\\right) \\right]\\\\\n",
    "    &= \\sum_{k}\\left[\\sum_{i,j} \\left(t_{ij}d_{ik}^\\dagger d_{jk} + \\mathrm{h.c.}\\right) \n",
    "    + \\sum_{\\delta}\\sum_{i,j} \\left(t_{ij}d_{ik}^\\dagger d_{jk}e^{ik\\delta} + \\mathrm{h.c.}\\right) \\right]\n",
    "\\end{align*}\n",
    "$$"
   ]
  },
  {
   "cell_type": "markdown",
   "metadata": {},
   "source": [
    "ここで $\\delta$ を 0 もとるものだとすると\n",
    "$$\n",
    "    \\mathcal{H}\n",
    "    = \\sum_{k}\\sum_{\\delta}\\sum_{i,j} \\left(t_{ij}d_{ik}^\\dagger d_{jk}e^{ik\\delta} + \\mathrm{h.c.}\\right)\n",
    "$$\n",
    "というようにまとめることができる。\n",
    "また改めて位置表示でのハミルトニアンを書くと\n",
    "$$\n",
    "    \\mathcal{H}\n",
    "    = \\sum_{R,\\,\\delta}\\sum_{i,j} \\left(t_{ij}c_{R+r_i}^\\dagger c_{R+\\delta+r_i} + \\mathrm{h.c.}\\right)\n",
    "$$\n",
    "というように書ける。"
   ]
  },
  {
   "cell_type": "markdown",
   "metadata": {},
   "source": [
    "スピンを考えなくてよいので\n",
    "サイトを表す添え字 $ i=0,1, \\dots, 3 $ をこのようにする。\n",
    "\n",
    "$ i = 0 $ Aダイマーの1番目のサイトにある軌道\n",
    "\n",
    "$ i = 1 $ Aダイマーの2番目のサイトにある軌道\n",
    "\n",
    "$ i = 2 $ Bダイマーの1番目のサイトにある軌道\n",
    "\n",
    "$ i = 3 $ Bダイマーの2番目のサイトにある軌道"
   ]
  },
  {
   "cell_type": "markdown",
   "metadata": {},
   "source": [
    "これより対角化すべきハミルトニアン行列は\n",
    "$$\n",
    "\\mathcal{H} =\n",
    " \\begin{pmatrix}\n",
    "    0 &  t_a + t_b e^{-ik_x} & t_q(1+e^{ik_y}) & t_p e^{ik_y}(1+e^{ik_x})           \\\\\n",
    "    t_a + t_b e^{ik_x}  & 0 & t_p (1+e^{ik_x}) & t_q e^{ik_x}(1+e^{ik_y})         \\\\\n",
    "    t_q(1+e^{-ik_y}) & t_p(1+e^{-ik_x}) & 0 & t_a + t_b e^{ik_x}                       \\\\\n",
    "    t_p e^{-ik_y}(1+e^{-ik_x}) & t_q e^{-ik_x}(1+e^{-ik_y}) & t_a + t_b e^{-ik_x} & 0      \n",
    " \\end{pmatrix}\n",
    "$$\n",
    "となる。\n"
   ]
  },
  {
   "cell_type": "markdown",
   "metadata": {},
   "source": [
    "### 平均場近似"
   ]
  },
  {
   "cell_type": "markdown",
   "metadata": {},
   "source": [
    "オンサイト項の平均場を考える。\n",
    "\n",
    "ハートリー項は\n",
    "$$\n",
    "    c_{i\\mu \\uparrow}^\\dagger c_{i\\mu \\uparrow} c_{i\\mu \\downarrow}^\\dagger c_{i\\mu \\downarrow}\n",
    "    \\simeq \\braket{c_{i\\mu \\uparrow}^\\dagger c_{i\\mu \\uparrow}} c_{i\\mu \\downarrow}^\\dagger c_{i\\mu \\downarrow}\n",
    "    + c_{i\\mu \\uparrow}^\\dagger c_{i\\mu \\uparrow} \\braket{c_{i\\mu \\downarrow}^\\dagger c_{i\\mu \\downarrow}}\n",
    "    - \\cancel{\\braket{c_{i\\mu \\uparrow}^\\dagger c_{i\\mu \\uparrow}} \\braket{c_{i\\mu \\downarrow}^\\dagger c_{i\\mu \\downarrow}}}\n",
    "$$\n",
    "フォック項は\n",
    "$$\n",
    "\\begin{align*}\n",
    "    c_{i\\mu \\uparrow}^\\dagger c_{i\\mu \\uparrow} c_{i\\mu \\downarrow}^\\dagger c_{i\\mu \\downarrow}\n",
    "    &=-c_{i\\mu \\uparrow}^\\dagger c_{i\\mu \\downarrow} c_{i\\mu \\downarrow}^\\dagger c_{i\\mu \\uparrow}\\\\\n",
    "    &= -\\braket{c_{i\\mu \\uparrow}^\\dagger c_{i\\mu \\downarrow}} c_{i\\mu \\downarrow}^\\dagger c_{i\\mu \\uparrow}\n",
    "    -c_{i\\mu \\uparrow}^\\dagger c_{i\\mu \\downarrow} \\braket{c_{i\\mu \\downarrow}^\\dagger c_{i\\mu \\uparrow}}\n",
    "    +\\cancel{\\braket{c_{i\\mu \\uparrow}^\\dagger c_{i\\mu \\downarrow}} \\braket{c_{i\\mu \\downarrow}^\\dagger c_{i\\mu \\uparrow}}}\n",
    "\\end{align*}\n",
    "$$\n",
    "となる。\n",
    "\n",
    "ただハートリー項にすればよくて、セルフコンシステントに回す変数は\n",
    "$$\n",
    "    \\delta = \\braket{n_{i\\in A\\uparrow}}-\\braket{n_{i\\in A\\downarrow}} \n",
    "    = \\braket{n_{i\\in B\\downarrow}} - \\braket{n_{i\\in B\\uparrow}}\n",
    "$$。\n",
    "というようにして反強磁性分子内磁場を表す。\n",
    "\n",
    "ダイマーの各サイトには同数あると考えられるので\n",
    "$$\n",
    "\\begin{align*}\n",
    "    \\braket{n_{a1\\uparrow}} = \\braket{n_{a2\\uparrow}} &= \\frac{1}{2}\\braket{n_{i\\in A\\uparrow}}\\\\\n",
    "    \\braket{n_{a1\\downarrow}} = \\braket{n_{a2\\downarrow}} &= \\frac{1}{2}\\braket{n_{i\\in A\\downarrow}}\\\\\n",
    "    \\braket{n_{b1\\uparrow}} = \\braket{n_{b2\\uparrow}} &= \\frac{1}{2}\\braket{n_{i\\in B\\uparrow}}\\\\\n",
    "    \\braket{n_{b1\\downarrow}} = \\braket{n_{b2\\downarrow}} &= \\frac{1}{2}\\braket{n_{i\\in B\\downarrow}}\\\\\n",
    "\\end{align*}\n",
    "$$\n",
    "というようになり、ハミルトニアンの対角項に\n",
    "$$\n",
    "    \\mathrm{diag}\\mathcal{H} = \\frac{1}{4}(3-\\delta, 3-\\delta,\n",
    "                                            3+\\delta, 3+\\delta, \n",
    "                                            3+\\delta, 3+\\delta,\n",
    "                                            3-\\delta, 3-\\delta)\n",
    "$$\n",
    "というのを足せばよい。\n",
    "ただし、0-3番目の要素はアップスピン、4-7番目の要素はダウンスピンとしている。\n",
    "\n",
    "実際には定数項となる 3/4 はエネルギーの基準点がずれるだけなので取り外すことができ、\n",
    "$$\n",
    "    \\mathcal{H}_{\\mathrm{AFM}} = \\frac{U\\delta}{4}\\left(\n",
    "        \\sum_{i\\in B} - \\sum_{i \\in A}\n",
    "    \\right)\\sigma n_i\n",
    "$$\n",
    "というように反強磁性分子内場の項がよく見える形となる。"
   ]
  },
  {
   "cell_type": "markdown",
   "metadata": {},
   "source": [
    "### 流れ演算子"
   ]
  },
  {
   "cell_type": "markdown",
   "metadata": {},
   "source": [
    "カレント演算子を数値計算で扱えるような標識を求める。\n",
    "\n",
    "電流演算子は分極演算子\n",
    "$$\n",
    "    \\hat{P} = \\sum_{R,i} -e\\hat{n}_{R+r_i} (\\hat{R}+\\hat{r_i})\n",
    "$$\n",
    "を用いて\n",
    "$$\n",
    "    \\hat{J} = \\frac{-e}{i\\hbar}\\left[\\hat{P}, \\mathcal{\\hat{H}}_\\mathrm{MF}\\right]\n",
    "$$\n",
    "というように表せる。\n",
    "\n",
    "ここでの交換関係を位置表示ハミルトニアンを使って考える。\n",
    "分極演算子と非可換なのはホッピング項だけである。\n"
   ]
  },
  {
   "cell_type": "markdown",
   "metadata": {},
   "source": [
    "総和記号を無視するとこの交換関係は\n",
    "$$\n",
    "\\begin{align*}\n",
    "    \\frac{1}{i\\hbar}\\left[-e\\hat{n}_{R'+r_l}(\\hat{{R'}}+\\hat{{r}}_l),\\, t_{ij} c_{R+r_i}^\\dagger c_{R+\\delta+j}\\right]\n",
    "        &= \\frac{-et_{ij}}{i\\hbar}\\left[\\hat{n}_{R'+r_l}(\\hat{{R'}}+\\hat{{r}}_l),\\,\n",
    "            c_{R+r_i}^\\dagger c_{R+\\delta+r_j}\\right]\\\\\n",
    "        &= \\frac{-et_{ij}}{i\\hbar}\\left(\\left[\\hat{n}_{R'+r_l}(\\hat{{R'}}+\\hat{{r}}_l),\\,\n",
    "            c_{R+r_i}^\\dagger \\right] c_{R+\\delta+r_j}\n",
    "            +c_{R+r_i}^\\dagger\\left[\\hat{n}_{R'+r_l}(\\hat{{R'}}+\\hat{{r}}_l),\\, c_{R+\\delta+r_j} \\right]\\right)\\\\\n",
    "        &= \\frac{-et_{ij}}{i\\hbar}\\left(\\delta_{il}\\delta_{R,R'}({R'}+{r}_l)\\left[\\hat{n}_l,\\, c_{R+r_i}^\\dagger \\right]c_{R+\\delta+r_j}\n",
    "            +\\delta_{lj}\\delta_{R+\\delta,R'}({R'}+r_l) c_{R+r_i}^\\dagger\\left[\\hat{n}_l,\\, c_{R+\\delta+r_j} \\right]\\right)\\\\\n",
    "        &= \\frac{-et_{ij}}{i\\hbar}\\left(\\delta_{il}\\delta_{R,R'}({R'}+{r}_l)c_{R+r_i}^\\dagger  c_{R+\\delta+r_j}\n",
    "            -\\delta_{lj}\\delta_{R+\\delta,R'}({R'}+r_l) c_{R+r_i}^\\dagger c_{R+\\delta+r_j}\\right)\\\\\n",
    "        &= \\frac{-et_{ij}}{i\\hbar}(\\delta_{il}\\delta_{R,R'}-\\delta_{jl}\\delta_{R+\\delta,R'})({R'}+{r}_l)c_{R+r_i}^\\dagger  c_{R+\\delta+r_j}\\\\\n",
    "    \\frac{1}{i\\hbar}\\left[-e\\hat{n}_{R'+r_l}(\\hat{{R'}}+\\hat{{r}}_l),\\, t_{ij} c_{R+\\delta+r_j}^\\dagger c_{R+r_i}\\right]\n",
    "        &=  \\frac{-et_{ij}}{i\\hbar}(\\delta_{jl}\\delta_{R+\\delta,R'}-\\delta_{il}\\delta_{R,R'})({R'}+{r}_l)c_{R+\\delta+r_j}^\\dagger  c_{R+r_j}\\\\\n",
    "        &= -\\frac{-et_{ij}}{i\\hbar}(\\delta_{il}\\delta_{R,R'}-\\delta_{jl}\\delta_{R+\\delta,R'})({R'}+{r}_l)c_{R+\\delta+r_j}^\\dagger  c_{R+r_j}\n",
    "\\end{align*}\n",
    "$$\n",
    "より"
   ]
  },
  {
   "cell_type": "markdown",
   "metadata": {},
   "source": [
    "$$\n",
    "\\begin{align*}\n",
    "    \\hat{{J}} \n",
    "    &= \\sum_{R,\\,\\delta}\\sum_{i,j} \\sum_{R', l} \n",
    "        \\frac{-et_{ij}}{\\hbar}(\\delta_{il}\\delta_{R,R'}-\\delta_{jl}\\delta_{R+\\delta,R'})({R'}+{r}_l)\\left(-ic_{R+r_i}^\\dagger c_{R+\\delta+r_j}+ic_{R+\\delta +r_j}^\\dagger c_{R+r_i}\\right)\\\\\n",
    "    &= \\sum_{R,\\,\\delta}\\sum_{i,j}\n",
    "        \\frac{-et_{ij}}{\\hbar}({R}+{r}_i-({R}+\\delta+{r}_j))\\left(-ic_{R+r_i}^\\dagger c_{R+\\delta+r_j}+\\text{h.c.}\\right)\\\\\n",
    "    &= \\sum_{R,\\,\\delta}\\sum_{i,j}\n",
    "        \\frac{-et_{ij}}{\\hbar}({r}_i-{r}_j-\\delta)\\left(-ic_{R+r_i}^\\dagger c_{R+\\delta+r_j}+\\text{h.c.}\\right)\n",
    "\\end{align*}\n",
    "$$\n",
    "となる。"
   ]
  },
  {
   "cell_type": "markdown",
   "metadata": {},
   "source": [
    "あとはフーリエ変換をすると\n",
    "$$\n",
    "\\begin{align*}\n",
    "    \\hat{{J}}\n",
    "    &= \\frac{1}{N}\\sum_{k,k'}\\sum_{R,\\,\\delta}\\sum_{i,j}\n",
    "        \\frac{-et_{ij}}{\\hbar}({r}_i-{r}_j-\\delta)\\left\\{-ie^{-ik(R+r_i)}c_{ik}^\\dagger \\, e^{ik'(R+\\delta+r_j)}c_{jk'} + \\text{h.c.}\\right\\}\\\\\n",
    "    &= \\sum_{k}\\sum_{\\delta}\\sum_{i,j}\n",
    "        \\frac{-et_{ij}}{\\hbar}\\left\\{-i({r}_i-{r}_j-\\delta)e^{-ik(r_i-r_j-\\delta)}c_{ik}^\\dagger \\, c_{jk} + \\text{h.c.}\\right\\}\n",
    "    = \\sum_{k}\\sum_{\\delta}\\sum_{i,j}\n",
    "        \\frac{-et_{ij}}{\\hbar}\\left\\{-i({r}_i-{r}_j-\\delta)e^{ik\\delta}d_{ik}^\\dagger \\, d_{jk} + \\text{h.c.}\\right\\}\\\\\n",
    "    &= \\sum_{k}\\sum_{\\delta}\\sum_{i,j}\n",
    "        \\frac{-et_{ij}}{\\hbar}\\left\\{\\nabla_k e^{-ik(r_i-r_j-\\delta)} c_{ik}^\\dagger c_{jk}\\, + \\text{h.c.}\\right\\}\\\\\n",
    "\\end{align*}\n",
    "$$"
   ]
  },
  {
   "cell_type": "markdown",
   "metadata": {},
   "source": [
    "ここの単位胞内部での位置座標をどうするかという問題が生じる。\n",
    "これは中先生のkappa ET2 の FFLO を調べてみた Phys.Rev.R 5.043171 の付録を読んでみると、\n",
    "単位胞内部での位置座標は見ないことにしている。\n",
    "こうすることで元のハミルトニアンの時点で逆格子ベクトルだけずらす ($k\\to k+G$) の操作のもとで不変であるという性質が守られるとして正当化している。"
   ]
  },
  {
   "cell_type": "markdown",
   "metadata": {},
   "source": [
    "よって電流演算子は\n",
    "$$\n",
    "\\hat{{J}}= \\frac{-e}{\\hbar}\\sum_{k}\\sum_{\\delta}\\sum_{i,j}\n",
    "        \\left(it_{ij}\\delta e^{ik\\delta} d_{ik}^\\dagger \\, d_{jk} + \\text{h.c.}\\right)\n",
    "$$\n",
    "として実装される。(実は後ほどわかるが、無次元化をすると先頭の $e/\\hbar$ は消えるので掛ける必要はない。)\n",
    "\n",
    "電流の方向は $\\delta$ が担っている."
   ]
  },
  {
   "cell_type": "markdown",
   "metadata": {},
   "source": [
    "スピン流演算子はスピン分極演算子演算子\n",
    "$$\n",
    "    {\\hat{P}}_{sz} = \\sum_{R,i} \\hbar \\hat{s}_i^z {\\hat{R}}_i, \\qquad\n",
    "    \\hat{s}_i^z = \\frac{n_{i\\uparrow}-n_{i\\downarrow}}{2}\n",
    "$$\n",
    "を用いて\n",
    "$$\n",
    "    {\\hat{J}}_{s} = \\frac{1}{i\\hbar} \\left[{\\hat{P}}_{s},\\mathcal{\\hat{H}}_\\mathrm{MF}\\right]\n",
    "$$\n",
    "と表せる。"
   ]
  },
  {
   "cell_type": "markdown",
   "metadata": {},
   "source": [
    "これを計算すると\n",
    "$$\n",
    "\\hat{{J}}= \\frac{1}{2}\\sum_{k}\\sum_{\\delta}\\sum_{i,j}\n",
    "        \\left(it_{ij}\\delta e^{ik\\delta} d_{ik\\uparrow}^\\dagger \\, d_{jk\\uparrow} + \\text{h.c.}\\right)\n",
    "        -\\frac{1}{2}\\sum_{k}\\sum_{\\delta}\\sum_{i,j}\n",
    "        \\left(it_{ij}\\delta e^{ik\\delta} d_{ik\\downarrow}^\\dagger \\, d_{jk\\downarrow} + \\text{h.c.}\\right)\n",
    "$$\n",
    "となる。"
   ]
  },
  {
   "cell_type": "markdown",
   "metadata": {},
   "source": [
    "#### 補足"
   ]
  },
  {
   "cell_type": "markdown",
   "metadata": {},
   "source": [
    "いろいろやったが結局、波数表示では位置演算子は\n",
    "$$\n",
    "    \\hat{r} = i\\frac{\\partial}{\\partial p} = \\frac{i}{\\hbar}\\frac{\\partial}{\\partial k}\n",
    "$$\n",
    "と書けるので\n",
    "$$\n",
    "    \\left[\\hat{r},\\,\\mathcal{H}(k)\\right] = \\frac{i}{\\hbar}\\frac{\\partial \\mathcal{H}(k)}{\\partial k}\n",
    "$$\n",
    "になるというような話である"
   ]
  },
  {
   "cell_type": "markdown",
   "metadata": {},
   "source": [
    "### スピン伝導度"
   ]
  },
  {
   "cell_type": "markdown",
   "metadata": {},
   "source": [
    "外場の演算子$AH(t)$による応答$B(t)$を考える。\n",
    "この$B(t)$の時間発展はハイゼンベルグ表示によるものである。\n",
    "<!-- これはグリーン関数\n",
    "$$\n",
    "    G(t) = \\frac{i}{\\hbar}\\braket{[B(t),\\,A]}\n",
    "$$\n",
    "とすると応答関数は -->\n",
    "久保公式より応答関数は\n",
    "$$\n",
    "    Q(\\omega) = \\frac{i}{\\hbar V}\\int_o^\\infty dt\\, e^{it(\\omega + i\\eta)}\\braket{[B(t),A]}\n",
    "$$\n",
    "と書ける。"
   ]
  },
  {
   "cell_type": "markdown",
   "metadata": {},
   "source": [
    "はじめにブラケットを処理する。\n",
    "期待値は密度行列を使って\n",
    "$$\n",
    "\\begin{align*}\n",
    "    \\braket{[B(t),\\,A]} \n",
    "    &= \\text{Tr}\\braket{\\rho\\,[B(t),\\,A]} \\\\\n",
    "    &= \\left[\n",
    "        \\sum_{k}\\sum_{m}p_{km}\\ket{km}\\bra{km}\\left(e^{iHt}Be^{-iHt}A-Ae^{iHt}Be^{-iHt}\\right)\n",
    "    \\right]\\\\\n",
    "    &= \\sum_{k}\\sum_{mn}p_{km}\\left[\n",
    "        \\bra{km}e^{iHt}B\\ket{kn}\\bra{kn}e^{-iHt}A\\ket{km}-\\bra{km}Ae^{iHt}\\ket{kn}\\bra{kn}Be^{-iHt}\\ket{km}\n",
    "    \\right]\\\\\n",
    "    &= \\sum_{k}\\sum_{mn}p_{km}\\left[\n",
    "        e^{i(\\omega_m-\\omega_n)t}B_{mn}A_{nm}-e^{i(\\omega_n-\\omega_m)t}A_{mn}B_{nm}\n",
    "    \\right]\\\\\n",
    "    &= \\sum_{k}\\sum_{mn}e^{i(\\omega_m-\\omega_n)t}(p_{km}-p_{kn})B_{mn}A_{nm}\n",
    "\\end{align*}\n",
    "$$\n",
    "となる。"
   ]
  },
  {
   "cell_type": "markdown",
   "metadata": {},
   "source": [
    "これより応答関数は\n",
    "$$\n",
    "\\begin{align*}\n",
    "    Q(\\omega) \n",
    "    &=\\frac{i}{\\hbar V}\\sum_{k}\\sum_{mn}(p_{km}-p_{kn})B_{mn}A_{nm}\\int_0^\\infty dt\\, \n",
    "    e^{it(\\omega+\\omega_m-\\omega_n+i\\eta)}\\\\\n",
    "    &=-\\frac{1}{V}\\sum_{k}\\sum_{mn}\\frac{p_{km}-p_{kn}}{\\hbar\\omega+E_m-E_n+i\\gamma}B_{mn}A_{nm}\n",
    "\\end{align*}\n",
    "$$\n",
    "となる。"
   ]
  },
  {
   "cell_type": "markdown",
   "metadata": {},
   "source": [
    "直流応答は\n",
    "$$\n",
    "    Q_{DC} = \\lim_{\\omega\\to 0}\\frac{Q(\\omega)-Q(0)}{i\\omega}\n",
    "$$\n",
    "というように求められるので\n",
    "$$\n",
    "    Q_{DC}=\\frac{\\hbar}{iV}\\sum_{k}\\sum_{mn}\\frac{p_{km}-p_{kn}}{(E_{km}-E_{kn}+i\\gamma)^2}B_{mn}A_{nm}\n",
    "$$\n",
    "となる。"
   ]
  },
  {
   "cell_type": "markdown",
   "metadata": {},
   "source": [
    "今の系では確率はフェルミ分布$p_{km}=f(E_{km})$を使い、\n",
    "電場を加えたときのスピン電導度を調べるので演算子は$A=J$, $B=J_{s_z}$ となる。\n",
    "これを代入して\n",
    "$$\n",
    "    \\chi_{xy}\n",
    "    = \\frac{\\hbar}{iV}\\sum_{{k}}\\sum_{m,n}\\frac{f(E_{km})-f(E_{kn})}{(E_{km}-E_{kn}+i\\gamma)^2}\n",
    "    [J_s^x]_{nm}[J^y]_{mn}\n",
    "$$\n",
    "となる。ここでの$m,n$のインデックスは各波数のエネルギー固有状態である。"
   ]
  },
  {
   "cell_type": "markdown",
   "metadata": {},
   "source": [
    "無次元化をするにはどうすればよいかをじっくり見ると\n",
    "$$\n",
    "    \\frac{\\chi_{xy}}{e}\n",
    "$$\n",
    "とすればよい。\n",
    "すると各流れ演算子の中の$e$や$\\hbar$は必要がないのもわかる。"
   ]
  },
  {
   "cell_type": "markdown",
   "metadata": {},
   "source": [
    "いままで流れ演算子は波数基底で書いていたのでその変換をしなければならない。\n",
    "ブラケットを使った行列表示を考えると\n",
    "$$\n",
    "\\begin{align*}\n",
    "    \\hat{J}\n",
    "    &=\\sum_k \\sum_{ij} \\ket{i,k}\\bra{i,k}\\hat{J}\\ket{j,k}\\bra{j,k}\\\\\n",
    "    &=\\sum_k \\sum_{mn}\\sum_{ij} \\ket{m,k}\\bra{m,k}\\ket{i,k}\\bra{i,k}\\hat{J}\\ket{j,k}\\bra{j,k}\\ket{n,k}\\bra{n,k}\\\\\n",
    "\\end{align*}\n",
    "$$\n",
    "というようになる。\n",
    "ここで現れた $\\bra{j,k}\\ket{n,k}$ というのは何かというと、\n",
    "n番目の固有ベクトルのj番目の成分である。"
   ]
  },
  {
   "cell_type": "markdown",
   "metadata": {},
   "source": [
    "なので流れ演算子の $(m,n)$ 成分を調べるには\n",
    "$$\n",
    "    \\hat{J}_{mn}(k) = v_m^\\dagger \\hat{J}(k) v_n\n",
    "$$\n",
    "をすればよい。"
   ]
  },
  {
   "cell_type": "markdown",
   "metadata": {},
   "source": [
    "ただこのように実装すると計算速度のボトルネックになる。\n",
    "numpy が出力する固有ベクトルを並べた行列\n",
    "$$\n",
    "    U = \\left[v_0,\\,v_1,\\cdots,\\,v_7\\right]\n",
    "$$\n",
    "を使って\n",
    "$$\n",
    "    \\hat{J}_{mn}(k) = \\left(U^\\dagger \\hat{J}(k) U\\right)_{mn}\n",
    "$$\n",
    "とすると早い"
   ]
  },
  {
   "cell_type": "markdown",
   "metadata": {},
   "source": [
    "すると\n",
    "$$\n",
    "    \\frac{\\chi_{xy}}{e}\n",
    "    = \\frac{1}{i(k_{\\text{mesh}})^2}\\sum_{{k}}\\sum_{m,n}\\frac{f(E_{km})-f(E_{kn})}{(E_{km}-E_{kn}+i\\gamma)^2}\n",
    "    [U^\\dagger J_s^x U]_{nm}[U^\\dagger J^y U]_{mn}\n",
    "$$\n",
    "となる。"
   ]
  },
  {
   "cell_type": "markdown",
   "metadata": {},
   "source": [
    "ただ、バンド内遷移のことを考えるとこの式ではなく次の式を使うことになる。\n",
    "$$\n",
    "    \\frac{\\chi_{xy}}{e}\n",
    "    = \\frac{1}{i(k_{\\text{mesh}})^2}\\sum_{{k}}\\sum_{m\\neq n}\\frac{f(E_{km})-f(E_{kn})}{E_{km}-E_{kn}}\n",
    "    \\frac{[U^\\dagger J_s^x U]_{nm}[U^\\dagger J^y U]_{mn}}{E_{km}-E_{kn}+i\\gamma}\n",
    "    +\\frac{1}{i(k_{\\text{mesh}})^2}\\sum_{{k_m}\\in k_F}\\frac{i[U^\\dagger J_s^x U]_{mm}[U^\\dagger J^y U]_{mm}}{\\gamma}\n",
    "$$\n",
    "この形も久保公式と呼ばれるが、たくさん久保公式はあるので Kubo-Greenwood formula と呼ぶといいらしい。"
   ]
  },
  {
   "cell_type": "markdown",
   "metadata": {},
   "source": [
    "## TODO\n",
    "\n",
    "- スピン伝導度のプロットをする\n",
    "- ハミルトニアン・カレント演算子のテストをしやすいようにする。\n",
    "- $t_a,\\,t_b,\\,t_p,\\,t_q$ の値を変えてみる\n",
    "- スピン軌道相互作用を入れて、電気伝導度を調べる"
   ]
  },
  {
   "cell_type": "markdown",
   "metadata": {},
   "source": [
    "## ライブラリのインポート"
   ]
  },
  {
   "cell_type": "code",
   "execution_count": 2,
   "metadata": {},
   "outputs": [],
   "source": [
    "%load_ext autoreload\n",
    "%autoreload 2"
   ]
  },
  {
   "cell_type": "code",
   "execution_count": 3,
   "metadata": {},
   "outputs": [],
   "source": [
    "import numpy as np\n",
    "import matplotlib.pyplot as plt\n",
    "from lib import funcs as fs\n",
    "from lib import post\n",
    "import time"
   ]
  },
  {
   "cell_type": "code",
   "execution_count": 4,
   "metadata": {},
   "outputs": [],
   "source": [
    "def make_chi_graph(x, y, Ne, label):\n",
    "    fig = plt.figure()\n",
    "    ax1 = fig.add_subplot(111)\n",
    "    ax1.set_xlim(0.55,1.45)\n",
    "    ax1.set_ylime(0.4, -0.8)\n",
    "    ax1.hlines(0, 0.55, 1.45, color=\"grey\")\n",
    "    ax1.set_title(\"Ne = {:.1f}\".format(Ne))\n",
    "    ax1.set_xlabel(\"U (eV)\")\n",
    "    ax1.set_ylabel(label)\n",
    "    ax1.plot(x, y)\n",
    "\n",
    "    # 出力\n",
    "    image_path = \"./output/{}/Ne{:d}.png\".format(label, int(Ne*10))\n",
    "    plt.savefig(image_path)\n",
    "\n",
    "    return image_path"
   ]
  },
  {
   "cell_type": "markdown",
   "metadata": {},
   "source": [
    "## 実行"
   ]
  },
  {
   "cell_type": "code",
   "execution_count": 14,
   "metadata": {},
   "outputs": [
    {
     "name": "stdout",
     "output_type": "stream",
     "text": [
      "SCF calculation start. U = 1.00, Ne = 6.10, err < 1.0e-06\n",
      "SCF loop converged. U = 1.00, Ne = 6.10, err < 1.0e-06, loop = 120, delta = 7.59e-01\n",
      "\n",
      "NSCF calculation start.\n",
      "NSCF calculation finished.\n",
      "\n"
     ]
    },
    {
     "data": {
      "image/png": "[encoded data removed]",
      "text/plain": [
       "<Figure size 640x480 with 1 Axes>"
      ]
     },
     "metadata": {},
     "output_type": "display_data"
    },
    {
     "data": {
      "image/png": "[encoded data removed]",
      "text/plain": [
       "<Figure size 640x480 with 1 Axes>"
      ]
     },
     "metadata": {},
     "output_type": "display_data"
    }
   ],
   "source": [
    "model = fs.KappaET2X(1.0, 6.1, 31)\n",
    "model.calc_scf()\n",
    "model.calc_nscf()\n",
    "model.calc_dos()\n",
    "model.plot_dos()\n",
    "# model.calc_spin_conductivity(\"x\", \"y\")\n",
    "model.plot_fermi_surface()\n",
    "# model.plot_band()"
   ]
  },
  {
   "cell_type": "code",
   "execution_count": 13,
   "metadata": {},
   "outputs": [
    {
     "data": {
      "image/png": "[encoded data removed]",
      "text/plain": [
       "<Figure size 640x480 with 1 Axes>"
      ]
     },
     "metadata": {},
     "output_type": "display_data"
    },
    {
     "data": {
      "image/png": "[encoded data removed]",
      "text/plain": [
       "<Figure size 640x480 with 1 Axes>"
      ]
     },
     "metadata": {},
     "output_type": "display_data"
    }
   ],
   "source": [
    "model.calc_dos()\n",
    "model.plot_dos()\n",
    "# model.calc_spin_conductivity(\"x\", \"y\")\n",
    "model.plot_fermi_surface()"
   ]
  },
  {
   "cell_type": "markdown",
   "metadata": {},
   "source": [
    "## メッシュの細かさと伝導度の収束と計算時間"
   ]
  },
  {
   "cell_type": "code",
   "execution_count": 6,
   "metadata": {},
   "outputs": [
    {
     "name": "stdout",
     "output_type": "stream",
     "text": [
      "SCF calculation start. U = 1.00, Ne = 6.40, err < 1.0e-06\n"
     ]
    },
    {
     "ename": "KeyboardInterrupt",
     "evalue": "",
     "output_type": "error",
     "traceback": [
      "\u001b[1;31m---------------------------------------------------------------------------\u001b[0m",
      "\u001b[1;31mKeyboardInterrupt\u001b[0m                         Traceback (most recent call last)",
      "Cell \u001b[1;32mIn[6], line 7\u001b[0m\n\u001b[0;32m      5\u001b[0m start_time \u001b[38;5;241m=\u001b[39m time\u001b[38;5;241m.\u001b[39mtime()\n\u001b[0;32m      6\u001b[0m model \u001b[38;5;241m=\u001b[39m fs\u001b[38;5;241m.\u001b[39mKappaET2X(\u001b[38;5;241m1.0\u001b[39m, \u001b[38;5;241m6.4\u001b[39m, \u001b[38;5;241m31\u001b[39m)\n\u001b[1;32m----> 7\u001b[0m \u001b[43mmodel\u001b[49m\u001b[38;5;241;43m.\u001b[39;49m\u001b[43mcalc_scf\u001b[49m\u001b[43m(\u001b[49m\u001b[43m)\u001b[49m\n\u001b[0;32m      8\u001b[0m model\u001b[38;5;241m.\u001b[39mcalc_nscf(i)\n\u001b[0;32m      9\u001b[0m chi\u001b[38;5;241m.\u001b[39mappend(np\u001b[38;5;241m.\u001b[39mreal(model\u001b[38;5;241m.\u001b[39mcalc_spin_conductivity(\u001b[38;5;124m\"\u001b[39m\u001b[38;5;124mx\u001b[39m\u001b[38;5;124m\"\u001b[39m,\u001b[38;5;124m\"\u001b[39m\u001b[38;5;124my\u001b[39m\u001b[38;5;124m\"\u001b[39m)))\n",
      "File \u001b[1;32mc:\\Users\\xiang\\Documents\\latex\\TUS_B3_reports\\2024_09_25_AlterMagnet1\\lib\\funcs.py:352\u001b[0m, in \u001b[0;36mKappaET2X.calc_scf\u001b[1;34m(self, iteration, err)\u001b[0m\n\u001b[0;32m    350\u001b[0m         enes \u001b[38;5;241m=\u001b[39m np\u001b[38;5;241m.\u001b[39mappend(enes, eigenEnergy)\n\u001b[0;32m    351\u001b[0m         eigenEnes[i,j] \u001b[38;5;241m=\u001b[39m eigenEnergy\n\u001b[1;32m--> 352\u001b[0m         eigenStates[i,j] \u001b[38;5;241m=\u001b[39m eigenState\n\u001b[0;32m    353\u001b[0m \u001b[38;5;28;01mdel\u001b[39;00m i, j\n\u001b[0;32m    355\u001b[0m \u001b[38;5;66;03m# 求めたエネルギー固有値をソートして下から何番目というのを探してやればよい\u001b[39;00m\n\u001b[0;32m    356\u001b[0m \u001b[38;5;66;03m# 絶縁体相のときのことを考えると平均をとる必要がある\u001b[39;00m\n",
      "\u001b[1;31mKeyboardInterrupt\u001b[0m: "
     ]
    }
   ],
   "source": [
    "chi = []\n",
    "time_ = []\n",
    "leng = range(1, 20,2)\n",
    "for i in leng:\n",
    "    start_time = time.time()\n",
    "    model = fs.KappaET2X(1.0, 6.4, 31)\n",
    "    model.calc_scf()\n",
    "    model.calc_nscf(i)\n",
    "    chi.append(np.real(model.calc_spin_conductivity(\"x\",\"y\")))\n",
    "    end_time = time.time()\n",
    "    time_.append(end_time - start_time)\n",
    "del i\n",
    "\n",
    "fig = plt.figure()\n",
    "ax1 = fig.add_subplot(111)\n",
    "\n",
    "ax1.set_ylabel(\"$\\chi /e$\")\n",
    "ax1.plot(list(leng), chi, color=\"tab:blue\")\n",
    "\n",
    "ax2 = ax1.twinx()\n",
    "ax2.set_ylabel(\"time\")\n",
    "ax2.plot(list(leng), time_, color=\"tab:orange\")\n",
    "\n",
    "plt.show()"
   ]
  },
  {
   "cell_type": "markdown",
   "metadata": {},
   "source": [
    "## 伝導度の計算"
   ]
  },
  {
   "cell_type": "code",
   "execution_count": null,
   "metadata": {},
   "outputs": [],
   "source": [
    "for Ne in np.linspace(6.0,6.9, 10):\n",
    "    Us = np.linspace(0.6, 1.4,19)\n",
    "    chi_xy = []\n",
    "    sigma_xy = []\n",
    "    for U in Us:\n",
    "        model = fs.KappaET2X(U, Ne, 101)\n",
    "        model.calc_scf()\n",
    "        model.calc_nscf()\n",
    "\n",
    "        chi_xy.append(np.real(model.calc_spin_conductivity(\"x\", \"y\")))\n",
    "\n",
    "        # sigma_xy.append(np.real(model.calc_conductivity(\"x\", \"y\")))\n",
    "\n",
    "    chi_path = make_chi_graph(Us, chi_xy, Ne, \"chi_xy\")\n",
    "    # sigma_path = make_graph(Us, sigma_xy, Ne, \"sigma_xy\")\n",
    "    # post.image(\"Ne = {:.1f} での conductivity の計算が終わりました\".format(Ne), chi_path)\n",
    "    # post.image(\"電気伝導度\".format(Ne), sigma_path)\n",
    "\n",
    "    # notice(\"電気伝導度:\".format(Ne))\n",
    "    # export_graph(Us, sigma_xy, Ne, \"sigma_xy\")"
   ]
  }
 ],
 "metadata": {
  "kernelspec": {
   "display_name": "Python 3",
   "language": "python",
   "name": "python3"
  },
  "language_info": {
   "codemirror_mode": {
    "name": "ipython",
    "version": 3
   },
   "file_extension": ".py",
   "mimetype": "text/x-python",
   "name": "python",
   "nbconvert_exporter": "python",
   "pygments_lexer": "ipython3",
   "version": "3.11.9"
  }
 },
 "nbformat": 4,
 "nbformat_minor": 2
}
