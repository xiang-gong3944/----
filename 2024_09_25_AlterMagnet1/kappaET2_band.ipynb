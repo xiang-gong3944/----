{
 "cells": [
  {
   "cell_type": "markdown",
   "metadata": {},
   "source": [
    "# $\\kappa$(ET)$_2$-X の強束縛模型でのバンド計算"
   ]
  },
  {
   "cell_type": "markdown",
   "metadata": {},
   "source": [
    "$\\kappa$(ET)$_2$-X を強束縛模型で計算する。\n",
    "この結晶は2次元的に扱うことができ、単位胞は$x$軸の格子定数を$a$, $y$軸の格子定数を$b$とした長方形である。"
   ]
  },
  {
   "cell_type": "markdown",
   "metadata": {},
   "source": [
    "この系のハミルトニアンは2次元ハバード模型\n",
    "\n",
    "$$\n",
    "\\mathcal{H} = \\sum_{ij}t_{ij}(c_i^{\\dagger}c_j+\\text{h.c.})+U\\sum_i n_{\\uparrow} n_{\\downarrow}\n",
    "$$\n",
    "をもとにしたものを使う。この和の添え字はサイトを表している。\n",
    "これを$\\kappa$型の格子に応用したのが\n",
    "$$\n",
    "    \\mathcal{H}_{\\kappa} \n",
    "    = U \\sum_{i\\mu} n_{i\\mu\\uparrow}n_{i\\mu\\downarrow}\n",
    "    + t_a\\sum_{i\\sigma}(c_{ia\\sigma}^\\dagger c_{ib\\sigma} + \\text{h.c})\n",
    "    +\\sum_{\\langle ij \\rangle \\mu\\mu'\\sigma} \n",
    "        t_{ij}^{\\mu\\mu'}(c_{i\\mu\\sigma}^\\dagger c_{j\\mu'\\sigma} +\\text{h.c.})\n",
    "$$\n",
    "である。\n",
    "\n",
    "ここでの添え字は\n",
    " i 番目のダイマー にある\n",
    "$ \\sigma = \\uparrow, \\downarrow $(スピン), \n",
    "$\\mu = a,b $(分子内のサイト)\n",
    "といった意味である。\n",
    "\n",
    "すると第二項はダイマー内のホッピングを表していて、\n",
    "\n"
   ]
  },
  {
   "cell_type": "markdown",
   "metadata": {},
   "source": [
    "ここでのパラメータは\n",
    "\n",
    "https://doi.org/10.1038/s41467-019-12229-y\n",
    "\n",
    "を参考にすると\n",
    "\n",
    "$$\n",
    "\\begin{align*}\n",
    "    t_{a} &= -0.207 \\,\\text{eV}\\\\\n",
    "    t_{p} &= -0.102 \\,\\text{eV}\\\\\n",
    "    t_{q} &= -0.043 \\,\\text{eV}\\\\\n",
    "    t_{b} &= -0.067 \\,\\text{eV}\\\\\n",
    "    U     &= 1      \\,\\text{eV}\n",
    "\\end{align*}\n",
    "$$\n",
    "\n",
    "というようにすればよいようである。\n"
   ]
  },
  {
   "cell_type": "markdown",
   "metadata": {},
   "source": [
    "解くために平均場近似をする。\n",
    "そうすると相互作用項はハートリー項とフォック項に分けられて\n",
    "$$\n",
    "\\begin{align}\n",
    "    n_{\\uparrow} n_{\\downarrow} \n",
    "        &= c_{\\uparrow}^\\dagger c_{\\uparrow} c_{\\downarrow}^\\dagger c_{\\downarrow} \\\\\n",
    "        &= \\Big(\n",
    "            \\langle n_{\\uparrow} \\rangle c_{\\downarrow}^\\dagger c_{\\downarrow} \n",
    "            + c_{\\uparrow}^\\dagger c_{\\uparrow} \\langle n_{\\downarrow} \\rangle\n",
    "            -\\langle n_{\\uparrow} \\rangle\\langle n_{\\downarrow} \\rangle\n",
    "        \\Big) \n",
    "        - \\Big(\n",
    "            \\langle c_{\\downarrow}^\\dagger c_{\\uparrow} \\rangle c_{\\uparrow}^\\dagger c_{\\downarrow}\n",
    "            +\\langle c_{\\uparrow}^\\dagger c_{\\downarrow} \\rangle c_{\\downarrow}^\\dagger c_{\\uparrow}\n",
    "            -\\langle c_{\\downarrow}^\\dagger c_{\\uparrow} \\rangle \\langle c_{\\uparrow}^\\dagger c_{\\downarrow} \\rangle\n",
    "        \\Big) \n",
    "\\end{align}\n",
    "$$\n",
    "と書け、粒子数の期待値は単位胞に電子が6個入るように\n",
    "$$\n",
    " \\braket{n_\\uparrow} = \\braket{n_\\downarrow} = 0.75\n",
    "$$\n",
    "としてやればよい。\n",
    "そして、\n",
    "$$\n",
    " m \\equiv e^{i\\theta} = \\langle c_{\\uparrow}^\\dagger c_{\\downarrow} \\rangle, \\quad m^* = e^{-i\\theta} = \\langle c_{\\downarrow}^\\dagger c_{\\uparrow} \\rangle\n",
    "$$\n",
    "はセルフコンシステントに解くらしい。\n",
    "また簡単のため長方形ではなく格子定数が 1 正方形として計算する?"
   ]
  },
  {
   "cell_type": "markdown",
   "metadata": {},
   "source": [
    "ただ、これはもとのハバードハミルトニアンのホッピングを丁寧に書き下しただけのように見える。\n",
    "のでいったん普通のハバードハミルトニアンをいじっていく。\n",
    "\n",
    "このハバードハミルトニアンをフーリエ変換する。\n",
    "生成消滅演算子はフーリエ変換すると\n",
    "$$\n",
    "    c_i = \\frac{1}{\\sqrt{N}}\\sum_{\\bm{k}} c_{i\\bm{k}} e^{i\\bm{k}\\cdot\\bm{R}_i}, \\qquad c_i^\\dagger = \\frac{1}{\\sqrt{N}}\\sum_{\\bm{k}} c_{i\\bm{k}}^\\dagger e^{-i\\bm{k} \\cdot \\bm{R}_i}\n",
    "$$\n",
    "より、\n",
    "$$\n",
    "    \\mathcal{H} =\\sum_{\\bm{k}}\\left\\{ \\sum_{ij} (t_{ij} e^{i\\bm{k}\\cdot(\\bm{R}_j-\\bm{R}_i)} c_{i\\bm{k}}^\\dagger c_{j\\bm{k}} + \\text{h.c.}) +  \\langle n \\rangle U\\sum_{i} (c_{i\\bm{k}\\uparrow}^\\dagger c_{i\\bm{k}\\uparrow}+c_{i\\bm{k}\\downarrow}^\\dagger c_{i\\bm{k}\\downarrow}-\\langle n \\rangle)\n",
    "    - m U \\sum_{i} (c_{i\\bm{k}\\uparrow}^\\dagger c_{i\\bm{k}\\downarrow}+c_{i\\bm{k}\\downarrow}^\\dagger c_{i\\bm{k}\\uparrow}-m)\n",
    "    \\right\\}\n",
    "$$\n",
    "各波数ごとにブロック対角化できた。"
   ]
  },
  {
   "cell_type": "markdown",
   "metadata": {},
   "source": [
    "サイトを表す添え字 $ i=0,1, \\dots, 7 $ をこのようにする。\n",
    "\n",
    "$ i = 0 $ Aダイマーの1番目のサイトにあるスピンアップの軌道\n",
    "\n",
    "$ i = 1 $ Aダイマーの2番目のサイトにあるスピンアップの軌道\n",
    "\n",
    "$ i = 2 $ Bダイマーの1番目のサイトにあるスピンアップの軌道\n",
    "\n",
    "$ i = 3 $ Bダイマーの2番目のサイトにあるスピンアップの軌道\n",
    "\n",
    "$ i = 4 $ Aダイマーの1番目のサイトにあるスピンダウンの軌道\n",
    "\n",
    "$ i = 5 $ Aダイマーの2番目のサイトにあるスピンダウンの軌道\n",
    "\n",
    "$ i = 6 $ Bダイマーの1番目のサイトにあるスピンダウンの軌道\n",
    "\n",
    "$ i = 7 $ Bダイマーの2番目のサイトにあるスピンダウンの軌道"
   ]
  },
  {
   "cell_type": "markdown",
   "metadata": {},
   "source": [
    "これより対角化すべきハミルトニアン行列は\n",
    "$$\n",
    " \\begin{pmatrix}\n",
    "    \\langle n \\rangle U &  t_a + t_b e^{ik_x} & 2t_p e^{ik_x/2}\\cos(k_y/2) & t_q e^{-i(k_x+k_y)/2}          & -mU & 0 & 0 & 0\\\\\n",
    "    t_a + t_b e^{-ik_x}  & \\langle n \\rangle U & 2t_p e^{ik_y/2}\\cos(k_x/2) & 2t_q e^{-ik_x/2}\\cos(k_y/2)   & 0 & -mU & 0 &0\\\\\n",
    "    2t_p e^{-ik_x/2}\\cos(k_y/2) & 2t_p e^{-ik_y/2}\\cos(k_x/2) & \\langle n \\rangle U & t_a + t_b e^{-ik_x}   & 0 & 0 &-mU & 0\\\\\n",
    "    t_q e^{i(k_x+k_y)/2} & 2t_q e^{ik_x/2}\\cos(k_y/2) & t_a + t_b e^{ik_x} & \\langle n \\rangle U            & 0 & 0 & 0 & -mU\\\\\n",
    "\n",
    "    -m^*U & 0 & 0 & 0   & \\langle n \\rangle U &  t_a + t_b e^{ik_x} & 2t_p e^{ik_x/2}\\cos(k_y/2) & t_q e^{-i(k_x+k_y)/2} \\\\\n",
    "    0 & -m^*U & 0 & 0   & t_a + t_b e^{-ik_x}  & \\langle n \\rangle U & 2t_p e^{ik_y/2}\\cos(k_x/2) & 2t_q e^{-ik_x/2}\\cos(k_y/2)\\\\\n",
    "    0 & 0 &-m^*U & 0    & 2t_p e^{-ik_x/2}\\cos(k_y/2) & 2t_p e^{-ik_y/2}\\cos(k_x/2) & \\langle n \\rangle U & t_a + t_b e^{-ik_x}\\\\\n",
    "    0 & 0 & 0 & -m^*U   & t_q e^{i(k_x+k_y)/2} & 2t_q e^{ik_x/2}\\cos(k_y/2) & t_a + t_b e^{ik_x} & \\langle n \\rangle U \n",
    " \\end{pmatrix}\n",
    "$$\n",
    "となるように思われる。\n"
   ]
  },
  {
   "cell_type": "markdown",
   "metadata": {},
   "source": [
    "セルフコンシステントに解くやり方がわからないのでまずは m=0 として無駄に 8x8 行列の固有値を求めてみる。"
   ]
  },
  {
   "cell_type": "code",
   "execution_count": null,
   "metadata": {},
   "outputs": [],
   "source": [
    "import Pkg\n",
    "Pkg.add(\"Plots\")"
   ]
  },
  {
   "cell_type": "code",
   "execution_count": 2,
   "metadata": {},
   "outputs": [],
   "source": [
    "using LinearAlgebra\n",
    "using Plots"
   ]
  },
  {
   "cell_type": "markdown",
   "metadata": {},
   "source": [
    "ハミルトニアンの定義"
   ]
  },
  {
   "cell_type": "code",
   "execution_count": null,
   "metadata": {},
   "outputs": [],
   "source": [
    "function ene(kx, ky, n=0.75, m=0)\n",
    "    ta = -0.207\n",
    "    tb = -0.067\n",
    "    tp = -0.102\n",
    "    tq = 0.043\n",
    "    H = zeros(Complex{Float64}, (8,8))\n",
    "    H[1,1] = n\n",
    "    H[1,2] = ta + tb * exp(im*kx)\n",
    "    H[1,3] = 2*tb * exp(im*kx/2) * cos(ky/2)\n",
    "    H[1,4] = tq * exp(-im*(kx+ky)/2)\n",
    "    H[1,5] = -m\n",
    "\n",
    "    H[2,2] = n\n",
    "    H[2,3] = 2*tp * exp(im*ky/2) * cos(kx/2)\n",
    "    H[2,4] = 2*tq * exp(-im*kx/2) * cos(kx/2)\n",
    "    H[2,6] = -m\n",
    "\n",
    "    H[3,3] = n\n",
    "    H[3,4] = ta + tb*exp(-im*kx)\n",
    "    H[3,7] = -m\n",
    "\n",
    "    H[4,4] = n\n",
    "    H[4,8] =-m\n",
    "\n",
    "    H[5,5] = H[1,1]\n",
    "    H[5,6] = H[1,2]\n",
    "    H[5,7] = H[1,3]\n",
    "    H[5,8] = H[1,4]\n",
    "\n",
    "    H[6,6] = H[2,2]\n",
    "    H[6,7] = H[2,3]\n",
    "    H[6,8] = H[2,4]\n",
    "\n",
    "    H[7,7] = H[3,3]\n",
    "    H[7,8] = H[3,4]\n",
    "\n",
    "    H[8,8] = H[4,4]\n",
    "    for i in 1:8\n",
    "        for j in 1:i-1\n",
    "            H[i,j] = conj(H[j,i])\n",
    "        end\n",
    "    end\n",
    "    return eigen(H).values\n",
    "end"
   ]
  },
  {
   "cell_type": "markdown",
   "metadata": {},
   "source": [
    "k 点パスを生成する関数"
   ]
  },
  {
   "cell_type": "code",
   "execution_count": null,
   "metadata": {},
   "outputs": [],
   "source": [
    "function gen_kpath(k_points, path::Vector{Tuple{String,String}} , npoints = 50)\n",
    "    k_path = []\n",
    "    labels = []\n",
    "    distances = []\n",
    "    total_distance = 0.0\n",
    "    for (spoint, epoint) in path\n",
    "        k_start = k_points[spoint]\n",
    "        k_end   = k_points[epoint]\n",
    "        # 線形補完でnpoints個のk点の生成\n",
    "        segment = LinRange(k_start, k_end, npoints)\n",
    "        append!(k_path, segment)\n",
    "        # 各セグメントの最初の点にラベルを付ける\n",
    "        append!(labels, [spoint; fill(nothing, npoints - 1)])\n",
    "        # プロットの横軸のための距離\n",
    "        segment_dist = range(total_distance, length=npoints, stop=total_distance + norm(k_end - k_start,2))\n",
    "        append!(distances, segment_dist)\n",
    "        total_distance += norm(k_start - k_end,2)\n",
    "    end\n",
    "    return (k_path, labels, distances)\n",
    "end"
   ]
  },
  {
   "cell_type": "markdown",
   "metadata": {},
   "source": [
    "通る経路は\n",
    "$$\n",
    " \\Gamma (0,0)\n",
    " \\rightarrow Y(0,1/2)\n",
    " \\rightarrow M'(-1/2,1/2)\n",
    " \\rightarrow \\Sigma'(-1/4,1/4)\n",
    " \\rightarrow \\Gamma(0,0)\n",
    " \\rightarrow \\Sigma(1/4,1/4)\n",
    " \\rightarrow M(1/2,1/2)\n",
    " \\rightarrow X(1/2, 0)\n",
    " \\rightarrow \\Gamma(0,0)\n",
    "$$\n",
    "である。"
   ]
  },
  {
   "cell_type": "markdown",
   "metadata": {},
   "source": [
    "まずは点の名前と座標の定義"
   ]
  },
  {
   "cell_type": "code",
   "execution_count": null,
   "metadata": {},
   "outputs": [],
   "source": [
    "k_points = Dict()\n",
    "\n",
    "k_points[\"Γ\"]    = [0.0, 0.0]\n",
    "k_points[\"X\"]    = [1/2, 0.0]\n",
    "k_points[\"Y\"]    = [0.0, 1/2]\n",
    "k_points[\"M\"]    = [1/2, 1/2]\n",
    "k_points[\"Σ\"]    = [1/4, 1/4]\n",
    "k_points[\"M'\"]   = [-1/2, 1/2]\n",
    "k_points[\"Σ'\"]   = [-1/4, 1/4]"
   ]
  },
  {
   "cell_type": "markdown",
   "metadata": {},
   "source": [
    "path の設定"
   ]
  },
  {
   "cell_type": "code",
   "execution_count": null,
   "metadata": {},
   "outputs": [],
   "source": [
    "path = [(\"Γ\", \"Y\"), (\"Y\", \"M'\"), (\"M'\", \"Σ'\"), (\"Σ'\",\"Γ\"), (\"Γ\", \"Σ\"), (\"Σ\", \"M\"), (\"M\", \"X\"), (\"X\", \"Γ\")]"
   ]
  },
  {
   "cell_type": "markdown",
   "metadata": {},
   "source": [
    "バンドの計算"
   ]
  },
  {
   "cell_type": "code",
   "execution_count": 7,
   "metadata": {},
   "outputs": [],
   "source": [
    "(k_path, label, distances) = gen_kpath(k_points, path)\n",
    "band = []\n",
    "for i in 1:size(k_path)[1]\n",
    "    append!(band, ene(k_path[i][1], k_path[i][2]))\n",
    "end"
   ]
  },
  {
   "cell_type": "markdown",
   "metadata": {},
   "source": [
    "プロット"
   ]
  },
  {
   "cell_type": "code",
   "execution_count": null,
   "metadata": {},
   "outputs": [],
   "source": [
    "p = plot()\n",
    "k = size(k_path)[1]\n",
    "# for i in 1:8\n",
    "#     for j in 1: k\n",
    "#         scatter!(p, distances[j], band[k*(i-1) + j])\n",
    "#     end\n",
    "# end\n",
    "scatter!(p, band)\n",
    "xlabel!(\"k-path\")\n",
    "ylabel!(\"Energy (eV)\")\n",
    "plot!(p)"
   ]
  }
 ],
 "metadata": {
  "kernelspec": {
   "display_name": "Julia 1.10.5",
   "language": "julia",
   "name": "julia-1.10"
  },
  "language_info": {
   "file_extension": ".jl",
   "mimetype": "application/julia",
   "name": "julia",
   "version": "1.10.5"
  }
 },
 "nbformat": 4,
 "nbformat_minor": 2
}
