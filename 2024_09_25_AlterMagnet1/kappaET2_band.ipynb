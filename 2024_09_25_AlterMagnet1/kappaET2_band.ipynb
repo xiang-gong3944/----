{
 "cells": [
  {
   "cell_type": "markdown",
   "metadata": {},
   "source": [
    "# $\\kappa$(ET)$_2$-X の強束縛模型でのバンド計算"
   ]
  },
  {
   "cell_type": "markdown",
   "metadata": {},
   "source": [
    "$\\kappa$(ET)$_2$-X を強束縛模型で計算する。\n",
    "この結晶は2次元的に扱うことができ、単位胞は$x$軸の格子定数を$a$, $y$軸の格子定数を$b$とした長方形である。"
   ]
  },
  {
   "cell_type": "markdown",
   "metadata": {},
   "source": [
    "この系のハミルトニアンは2次元ハバード模型\n",
    "\n",
    "$$\n",
    "\\mathcal{H} = \\sum_{ij}t_{ij}(c_i^{\\dagger}c_j+\\text{h.c.})+U\\sum_i n_{\\uparrow} n_{\\downarrow}\n",
    "$$\n",
    "\n",
    "を使う。総和の添え字はサイトを表している。"
   ]
  },
  {
   "cell_type": "markdown",
   "metadata": {},
   "source": [
    "ここでのパラメータは\n",
    "\n",
    "https://doi.org/10.1038/s41467-019-12229-y\n",
    "\n",
    "を参考にすると\n",
    "\n",
    "$$\n",
    "\\begin{align*}\n",
    "    t_{a} &= -0.207 \\,\\text{eV}\\\\\n",
    "    t_{p} &= -0.102 \\,\\text{eV}\\\\\n",
    "    t_{q} &= -0.043 \\,\\text{eV}\\\\\n",
    "    t_{b} &= -0.067 \\,\\text{eV}\\\\\n",
    "    U     &= 1      \\,\\text{eV}\n",
    "\\end{align*}\n",
    "$$\n",
    "\n",
    "というようにすればよいようである。\n"
   ]
  },
  {
   "cell_type": "markdown",
   "metadata": {},
   "source": [
    "また、平均場近似では $\\braket{n_\\uparrow} = 0.75 $ として単位胞に電子が6個入るように仮定している。"
   ]
  },
  {
   "cell_type": "markdown",
   "metadata": {},
   "source": [
    "このハバードハミルトニアンをフーリエ変換していく。\n",
    "生成消滅演算子はフーリエ変換すると\n",
    "$$\n",
    "    c_i = \\sum_{\\bm{k}} c_{i\\bm{k}} e^{i\\bm{k}\\cdot\\bm{R}_i}, \\qquad c_i^\\dagger = \\sum_{\\bm{k}} c_{i\\bm{k}}^\\dagger e^{-i\\bm{k} \\cdot \\bm{R}_i}\n",
    "$$"
   ]
  },
  {
   "cell_type": "markdown",
   "metadata": {},
   "source": []
  }
 ],
 "metadata": {
  "kernelspec": {
   "display_name": "Julia 1.10.5",
   "language": "julia",
   "name": "julia-1.10"
  },
  "language_info": {
   "name": "julia"
  }
 },
 "nbformat": 4,
 "nbformat_minor": 2
}
